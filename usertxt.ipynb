{
 "cells": [
  {
   "cell_type": "code",
   "execution_count": 2,
   "metadata": {},
   "outputs": [],
   "source": [
    "import argparse\n",
    "import os\n",
    "import time\n",
    "import subprocess"
   ]
  },
  {
   "cell_type": "code",
   "execution_count": 2,
   "metadata": {},
   "outputs": [
    {
     "name": "stderr",
     "output_type": "stream",
     "text": [
      "usage: ipykernel_launcher.py [-h] TXT\n",
      "ipykernel_launcher.py: error: the following arguments are required: TXT\n"
     ]
    },
    {
     "ename": "SystemExit",
     "evalue": "2",
     "output_type": "error",
     "traceback": [
      "An exception has occurred, use %tb to see the full traceback.\n",
      "\u001b[0;31mSystemExit\u001b[0m\u001b[0;31m:\u001b[0m 2\n"
     ]
    },
    {
     "name": "stderr",
     "output_type": "stream",
     "text": [
      "/home/orzwang/.pyenv/versions/3.6.13/lib/python3.6/site-packages/IPython/core/interactiveshell.py:3351: UserWarning: To exit: use 'exit', 'quit', or Ctrl-D.\n",
      "  warn(\"To exit: use 'exit', 'quit', or Ctrl-D.\", stacklevel=1)\n"
     ]
    }
   ],
   "source": [
    "parser = argparse.ArgumentParser(description='Process svn cleanup and svn update')\n",
    "\n",
    "parser.add_argument('repo', metavar='REPO', type=str, help='input the local address of the SVN repo')\n",
    "\n",
    "args = parser.parse_args()\n",
    "\n",
    "repo_dir = args.dir.split('=')[-1]"
   ]
  },
  {
   "cell_type": "code",
   "execution_count": 34,
   "metadata": {},
   "outputs": [],
   "source": [
    "repo_dir = \"/mnt/data0/proj_osgeo/data_svn/svn_repos/fdo/fdo\"\n",
    "file_dir = \"/mnt/data0/proj_osgeo/data_svn/to_git/\"+ repo_dir.split('/')[-1]\n",
    "url = \"\"\n",
    "cmmd = \"svn log https://svn.osgeo.org/fdo --quiet | awk '/^r/ {print $3}' | sort | uniq > users.txt\""
   ]
  },
  {
   "cell_type": "code",
   "execution_count": 37,
   "metadata": {},
   "outputs": [],
   "source": [
    "if not os.path.exists(file_dir):\n",
    "    os.makedirs(file_dir)\n",
    "os.chdir(repo_dir)\n",
    "subprocess.run(cmmd, cwd=repo_dir, shell=True)\n",
    "os.chdir(file_dir)\n",
    "with open(repo_dir+'/users.txt', 'r') as readf:\n",
    "    with open(\"./users_to_git.txt\", 'w', encoding='utf8') as writef:\n",
    "        line = readf.readline().replace('\\n','')\n",
    "        while line!=\"\":\n",
    "            writef.write(line+\" = \"+line.replace('(','')+\"<\"+line.replace('(','')+\"@svn.osgeo.org>\\n\")\n",
    "            line = readf.readline().replace('\\n','')\n",
    "        writef.write(\"(no author) = noauthor <noauthor@devel.gvisg.org>\")\n",
    "readf.close()\n",
    "writef.close()"
   ]
  },
  {
   "cell_type": "code",
   "execution_count": null,
   "metadata": {},
   "outputs": [],
   "source": [
    "repo_dir = \"/mnt/data0/proj_osgeo/data_svn/svn_repos/gvsig-desktop/gvsig-desktop\"\n",
    "file_dir = \"/mnt/data0/proj_osgeo/data_svn/to_git/\"+ repo_dir.split('/')[-1]\n",
    "cmmd = \"git svn clone /mnt/data0/proj_osgeo/data_svn/svn_repos/ --authors-file=users.txt -s\""
   ]
  }
 ],
 "metadata": {
  "interpreter": {
   "hash": "a673315fe2889f1938749863cb31942b8222368b7a28bca37fa9b828316f0ec1"
  },
  "kernelspec": {
   "display_name": "Python 3.6.13 64-bit ('3.6.13': pyenv)",
   "name": "python3"
  },
  "language_info": {
   "codemirror_mode": {
    "name": "ipython",
    "version": 3
   },
   "file_extension": ".py",
   "mimetype": "text/x-python",
   "name": "python",
   "nbconvert_exporter": "python",
   "pygments_lexer": "ipython3",
   "version": "3.6.13"
  },
  "orig_nbformat": 4
 },
 "nbformat": 4,
 "nbformat_minor": 2
}
